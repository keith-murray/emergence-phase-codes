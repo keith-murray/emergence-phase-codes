{
 "cells": [
  {
   "cell_type": "markdown",
   "id": "f39233bc-44a4-40e6-8fab-e3542e8e31b6",
   "metadata": {},
   "source": [
    "# Phase response curve\n",
    "A [phase response curve](https://en.wikipedia.org/wiki/Phase_response_curve) (PRC) measures the shift on an oscillations underlying phase caused by a stimulus as a function of when the stimulus was presented. In the context of our phase code solution to the M3A task, a network robust to the presentation of a stimulus should have PRCs that are constant across the phase of stimulus presentation. The measurement of PRCs can also be used to estimate the phase shift caused by task-specific stimuli."
   ]
  },
  {
   "cell_type": "markdown",
   "id": "79f254bc-8e33-47c1-8b77-e66c3dcaafc4",
   "metadata": {},
   "source": [
    "## Imports"
   ]
  },
  {
   "cell_type": "code",
   "execution_count": 1,
   "id": "4b2cfa48-5b53-4996-bdc5-ed9c64b58c60",
   "metadata": {},
   "outputs": [],
   "source": [
    "from tqdm import tqdm\n",
    "import matplotlib.pyplot as plt\n",
    "from matplotlib.gridspec import GridSpec\n",
    "from itertools import combinations_with_replacement\n",
    "\n",
    "import jax\n",
    "import jax.numpy as jnp\n",
    "from jax import random\n",
    "\n",
    "import scipy.signal\n",
    "import scipy.stats\n",
    "\n",
    "from ctrnn_jax.model import CTRNNCell\n",
    "from ctrnn_jax.training import ModelParameters, create_train_state\n",
    "from ctrnn_jax.pca import compute_pca\n",
    "\n",
    "from emergence_phase_codes.model import initialize_ctrnn\n",
    "from emergence_phase_codes.task import ModuloNArithmetic\n",
    "\n",
    "from emergence_phase_codes.animations.output import OutputAnimator\n",
    "from emergence_phase_codes.animations.pca import PCATrajectoryAnimator"
   ]
  },
  {
   "cell_type": "code",
   "execution_count": 2,
   "id": "766a552a-9b09-4e16-8cf2-b442830d1919",
   "metadata": {},
   "outputs": [],
   "source": [
    "key = random.PRNGKey(69)"
   ]
  },
  {
   "cell_type": "markdown",
   "id": "aa87ff2a-a817-4aa1-bc0a-cd44f8e9daf3",
   "metadata": {},
   "source": [
    "## Configure parameters"
   ]
  },
  {
   "cell_type": "code",
   "execution_count": 3,
   "id": "e43cb4f7-95a2-47eb-8483-b0c34bef8e3e",
   "metadata": {},
   "outputs": [],
   "source": [
    "# Modulo3Arithmetic task parameters\n",
    "BATCH_SIZE_M3A = 16\n",
    "\n",
    "MOD = 3\n",
    "CONGRUENT_NUMBER = 0\n",
    "TIME_LENGTH = 50\n",
    "NUM_TRIALS = 2500\n",
    "\n",
    "TRIALS_PER_POS = 100\n",
    "TRIALS_PER_NEG = 50\n",
    "\n",
    "PULSE_CONFIG = {\n",
    "    \"num_pulses\": 3,\n",
    "    \"pulse_window\": 40,\n",
    "    \"pulse_buffer\": 5,\n",
    "    \"pulse_gap\": 5,\n",
    "    \"pulse_amplitude\": 5,\n",
    "}\n",
    "\n",
    "INIT_ARRAY_M3A = jnp.ones([BATCH_SIZE_M3A, TIME_LENGTH, MOD])"
   ]
  },
  {
   "cell_type": "code",
   "execution_count": 4,
   "id": "24103d8c-1bd1-44f4-938b-4d8c1335af8a",
   "metadata": {},
   "outputs": [],
   "source": [
    "# Configure model parameters\n",
    "HIDDEN_FEATURES = 100\n",
    "OUTPUT_FEATURES = 1\n",
    "ALPHA = 1.0\n",
    "NOISE_SCALAR = 0.00"
   ]
  },
  {
   "cell_type": "markdown",
   "id": "cbd524b3-acee-4775-8126-17c02f76551e",
   "metadata": {},
   "source": [
    "## Initialize MNA task"
   ]
  },
  {
   "cell_type": "code",
   "execution_count": 5,
   "id": "60f0ac7e-4a52-4f2c-b83a-1b37e846a255",
   "metadata": {},
   "outputs": [
    {
     "data": {
      "text/plain": [
       "27"
      ]
     },
     "execution_count": 5,
     "metadata": {},
     "output_type": "execute_result"
    }
   ],
   "source": [
    "# Initialize task\n",
    "key, task_key = random.split(key, num=2)\n",
    "task = ModuloNArithmetic(\n",
    "    task_key, \n",
    "    MOD,\n",
    "    congruent_number=CONGRUENT_NUMBER,\n",
    "    time_length=TIME_LENGTH,\n",
    "    num_trials=NUM_TRIALS,\n",
    "    pulse_config=PULSE_CONFIG,\n",
    ")\n",
    "task.return_number_of_sequences()"
   ]
  },
  {
   "cell_type": "code",
   "execution_count": 6,
   "id": "6aafa3db-29fd-4a0a-ace5-167add3733aa",
   "metadata": {},
   "outputs": [
    {
     "data": {
      "text/plain": [
       "2500"
      ]
     },
     "execution_count": 6,
     "metadata": {},
     "output_type": "execute_result"
    }
   ],
   "source": [
    "# Initialize tensorflow dataset\n",
    "tf_dataset_train = task.generate_tf_dataset(BATCH_SIZE_M3A)\n",
    "len(task.dataset)"
   ]
  },
  {
   "cell_type": "markdown",
   "id": "5f03e1be-ce2c-420b-b2bb-9dc868a5f28a",
   "metadata": {},
   "source": [
    "## Load CT-RNN"
   ]
  },
  {
   "cell_type": "code",
   "execution_count": 7,
   "id": "d6551b7a-664c-49c0-9157-d80c40e4090f",
   "metadata": {},
   "outputs": [],
   "source": [
    "# Initialize model\n",
    "ctrnn = initialize_ctrnn(\n",
    "    hidden_features=HIDDEN_FEATURES,\n",
    "    output_features=OUTPUT_FEATURES,\n",
    "    alpha=ALPHA,\n",
    "    noise_const=NOISE_SCALAR,\n",
    ")"
   ]
  },
  {
   "cell_type": "code",
   "execution_count": 8,
   "id": "d6020dca-eec2-40fc-aaad-1bb3a8dfe419",
   "metadata": {},
   "outputs": [],
   "source": [
    "# Initialize train state\n",
    "key, train_state_key = random.split(key, num=2)\n",
    "train_state = create_train_state(\n",
    "    train_state_key, \n",
    "    ctrnn, \n",
    "     1E-4, \n",
    "    INIT_ARRAY_M3A,\n",
    ")"
   ]
  },
  {
   "cell_type": "code",
   "execution_count": 9,
   "id": "332d6abf-35d6-4ca6-abe2-1a0e8ec0066c",
   "metadata": {},
   "outputs": [],
   "source": [
    "# Load parameters\n",
    "params = ModelParameters(train_state)\n",
    "params.deserialize(\"../data/phase_code_solution_m3a_task.bin\")"
   ]
  },
  {
   "cell_type": "markdown",
   "id": "e1da5ed9-9287-4b82-ae9a-545abc1fe738",
   "metadata": {},
   "source": [
    "## Compute PCA and null rates"
   ]
  },
  {
   "cell_type": "code",
   "execution_count": null,
   "id": "e319268a-48ea-4fac-8156-3eec7ff6a2a7",
   "metadata": {},
   "outputs": [],
   "source": [
    "# Compute PCA\n",
    "key, pca_key = random.split(key, num=2)\n",
    "model_behavior, pca = compute_pca(\n",
    "    pca_key,\n",
    "    train_state,\n",
    "    params.params,\n",
    "    tf_dataset_train,\n",
    "    3,\n",
    ")"
   ]
  },
  {
   "cell_type": "code",
   "execution_count": null,
   "id": "2bd4f3d6-1174-4bbc-8c08-b37c2ae0f126",
   "metadata": {},
   "outputs": [],
   "source": [
    "# Compute null rates\n",
    "key, test_key = random.split(key, num=2)\n",
    "output_null, rates_null = train_state.apply_fn(\n",
    "    params.params, \n",
    "    jnp.zeros((1, 2 * TIME_LENGTH, MOD)), \n",
    "    rngs={\"noise_stream\": test_key}\n",
    ")\n",
    "rates_null = pca.transform(rates_null[0,:,:])"
   ]
  },
  {
   "cell_type": "code",
   "execution_count": null,
   "id": "6b802393-d140-4ea5-83a3-d38834439e39",
   "metadata": {},
   "outputs": [],
   "source": [
    "# Figure arguments\n",
    "pc1_dict = {0: rates_null[:, 0]}\n",
    "pc2_dict = {0: rates_null[:, 1]}\n",
    "\n",
    "null_behavior = {'rates_pc': rates_null[None, :, :]}\n",
    "trajectory_indices = [0]\n",
    "trajectory_colors = {0: ['tab:grey'] * (2 * TIME_LENGTH)}"
   ]
  },
  {
   "cell_type": "code",
   "execution_count": null,
   "id": "1ed39e72-0472-4bb5-91b3-1187b10522e4",
   "metadata": {},
   "outputs": [],
   "source": [
    "# Create the Figure\n",
    "fig_anim = plt.figure(figsize=(12, 6))\n",
    "gs = GridSpec(2, 2)\n",
    "\n",
    "# Panel 1\n",
    "ax_1 = fig_anim.add_subplot(gs[0, 0])\n",
    "animator_1 = OutputAnimator(\n",
    "    ax_1, pc1_dict, trajectory_colors,\n",
    "    title='PC1 over time',\n",
    ")\n",
    "ax_1.set_xticks([])\n",
    "ax_1.set_xlabel('')\n",
    "animator_1.figure()\n",
    "\n",
    "# Panel 2\n",
    "ax_2 = fig_anim.add_subplot(gs[1, 0,])\n",
    "animator_2 = OutputAnimator(\n",
    "    ax_2, pc2_dict, trajectory_colors,\n",
    "    title='PC2 over time',\n",
    ")\n",
    "animator_2.figure()\n",
    "\n",
    "# Panel 1\n",
    "ax_3 = fig_anim.add_subplot(gs[:, 1])\n",
    "animator_3 = PCATrajectoryAnimator(\n",
    "    ax_3, null_behavior, 1, 2, \n",
    "    trajectory_indices, trajectory_colors, \n",
    "    'Null PCA trajectory',\n",
    ")\n",
    "animator_3.figure()\n",
    "\n",
    "plt.tight_layout()\n",
    "plt.show()"
   ]
  },
  {
   "cell_type": "markdown",
   "id": "f4d7a33b-7b4d-4928-a76d-461ce265da2c",
   "metadata": {},
   "source": [
    "## Visualize pulses"
   ]
  },
  {
   "cell_type": "code",
   "execution_count": null,
   "id": "af8f1f50-cf96-480e-a8b2-202374d69c95",
   "metadata": {},
   "outputs": [],
   "source": [
    "pulse_loc = 32"
   ]
  },
  {
   "cell_type": "code",
   "execution_count": null,
   "id": "41338968-ad95-4a81-9b1a-3c90657c5c0e",
   "metadata": {},
   "outputs": [],
   "source": [
    "# Compute 0 pulse rates\n",
    "input_0 = jnp.zeros((1, 2 * TIME_LENGTH, MOD))\n",
    "input_0 = input_0.at[0, pulse_loc, 0].add(PULSE_CONFIG['pulse_amplitude'])\n",
    "input_0 = input_0.at[0, pulse_loc+1, 0].add(PULSE_CONFIG['pulse_amplitude'])\n",
    "\n",
    "output_0, rates_0 = train_state.apply_fn(\n",
    "    params.params, \n",
    "    input_0, \n",
    "    rngs={\"noise_stream\": test_key}\n",
    ")\n",
    "rates_0 = pca.transform(rates_0[0,:,:])"
   ]
  },
  {
   "cell_type": "code",
   "execution_count": null,
   "id": "27684d76-44d4-4b26-948f-c54657a00182",
   "metadata": {},
   "outputs": [],
   "source": [
    "# Compute 1 pulse rates\n",
    "input_1 = jnp.zeros((1, 2 * TIME_LENGTH, MOD))\n",
    "input_1 = input_1.at[0, pulse_loc, 1].add(PULSE_CONFIG['pulse_amplitude'])\n",
    "input_1 = input_1.at[0, pulse_loc+1, 1].add(PULSE_CONFIG['pulse_amplitude'])\n",
    "\n",
    "output_1, rates_1 = train_state.apply_fn(\n",
    "    params.params, \n",
    "    input_1, \n",
    "    rngs={\"noise_stream\": test_key}\n",
    ")\n",
    "rates_1 = pca.transform(rates_1[0,:,:])"
   ]
  },
  {
   "cell_type": "code",
   "execution_count": null,
   "id": "6883a0b1-9c00-477e-81f8-d88d3754fa56",
   "metadata": {},
   "outputs": [],
   "source": [
    "# Compute 0 pulse rates\n",
    "input_2 = jnp.zeros((1, 2 * TIME_LENGTH, MOD))\n",
    "input_2 = input_2.at[0, pulse_loc, 2].add(PULSE_CONFIG['pulse_amplitude'])\n",
    "input_2 = input_2.at[0, pulse_loc+1, 2].add(PULSE_CONFIG['pulse_amplitude'])\n",
    "\n",
    "output_2, rates_2 = train_state.apply_fn(\n",
    "    params.params, \n",
    "    input_2, \n",
    "    rngs={\"noise_stream\": test_key}\n",
    ")\n",
    "rates_2 = pca.transform(rates_2[0,:,:])"
   ]
  },
  {
   "cell_type": "code",
   "execution_count": null,
   "id": "478cf297-4b9b-4e39-8aed-58eb29928fb0",
   "metadata": {},
   "outputs": [],
   "source": [
    "# Figure arguments\n",
    "pulse_behavior = {\n",
    "    'rates_pc': jnp.stack((rates_null, rates_0, rates_1, rates_2,), axis=0),\n",
    "}\n",
    "trajectory_indices = [0, 1, 2, 3]\n",
    "trajectory_colors = {\n",
    "    0: ['tab:grey']*(TIME_LENGTH*2),\n",
    "    1: ['tab:green']*(TIME_LENGTH*2),\n",
    "    2: ['tab:red']*(TIME_LENGTH*2),\n",
    "    3: ['tab:purple']*(TIME_LENGTH*2),\n",
    "}"
   ]
  },
  {
   "cell_type": "code",
   "execution_count": null,
   "id": "59e7e773-e67a-49d0-b0df-4760c3d82305",
   "metadata": {},
   "outputs": [],
   "source": [
    "# Create the Figure\n",
    "fig_anim = plt.figure(figsize=(6, 6))\n",
    "gs = GridSpec(1, 1)\n",
    "\n",
    "# Panel 1\n",
    "ax_1 = fig_anim.add_subplot(gs[0, 0])\n",
    "animator_1 = PCATrajectoryAnimator(\n",
    "    ax_1, pulse_behavior, 1, 2, \n",
    "    trajectory_indices, trajectory_colors, \n",
    "    'PCA trajectories',\n",
    ")\n",
    "animator_1.figure()\n",
    "\n",
    "plt.tight_layout()\n",
    "plt.show()"
   ]
  },
  {
   "cell_type": "markdown",
   "id": "9a649255-0b05-4dc1-91a8-718bd684fea9",
   "metadata": {},
   "source": [
    "## Measure phase"
   ]
  },
  {
   "cell_type": "code",
   "execution_count": null,
   "id": "a2a1c532-d2c5-4e14-b18f-ef1f4ac38628",
   "metadata": {},
   "outputs": [],
   "source": [
    "def estimate_period_by_peaks(signal: jnp.ndarray, distance=5) -> float:\n",
    "    \"\"\"\n",
    "    Estimate oscillation period by averaging time between successive peaks.\n",
    "\n",
    "    Args:\n",
    "        signal (jnp.ndarray): 1D oscillatory signal.\n",
    "        distance (int): Minimum number of time steps between peaks (for filtering close peaks).\n",
    "\n",
    "    Returns:\n",
    "        float: Average period (in time steps) between detected peaks.\n",
    "    \"\"\"\n",
    "    # Convert to NumPy since scipy functions are not JAX-compatible\n",
    "    peaks, _ = scipy.signal.find_peaks(jnp.asarray(signal), distance=distance)\n",
    "    if len(peaks) < 2:\n",
    "        return -1  # Not enough peaks to compute period\n",
    "\n",
    "    peak_intervals = jnp.diff(peaks)\n",
    "    return scipy.stats.mode(jnp.asarray(peak_intervals)).mode.item()"
   ]
  },
  {
   "cell_type": "code",
   "execution_count": null,
   "id": "a03aa9bc-dc77-45fe-a1f2-71677271613b",
   "metadata": {},
   "outputs": [],
   "source": [
    "period = estimate_period_by_peaks(rates_null[:,0])\n",
    "period"
   ]
  },
  {
   "cell_type": "markdown",
   "id": "87034592-7165-44f7-9594-58da045f7c68",
   "metadata": {},
   "source": [
    "## Measure and plot phase responce curves (PRCs)"
   ]
  },
  {
   "cell_type": "code",
   "execution_count": null,
   "id": "41fdad80-dd51-4c51-b6ad-2d9846728362",
   "metadata": {},
   "outputs": [],
   "source": [
    "def compute_prc_tensor(key, train_state, params, pca, mod, period, pulse_amplitude):\n",
    "    \"\"\"\n",
    "    Compute a PRC tensor for each input type and pulse time relative to oscillation phase.\n",
    "\n",
    "    Args:\n",
    "        key (jax.random.PRNGKey): Random key.\n",
    "        train_state: Flax training state containing apply_fn.\n",
    "        params: Trained model parameters.\n",
    "        pca: Trained PCA object.\n",
    "        mod (int): Number of input types (e.g., 3).\n",
    "        period (int): Oscillation period in time steps.\n",
    "        pulse_amplitude (float): Amplitude of the input pulses.\n",
    "\n",
    "    Returns:\n",
    "        pulse_phase: shape (period), containing phases of presented pulses\n",
    "        prc_tensor: shape (mod, period, period), containing phase shifts in radians.\n",
    "    \"\"\"\n",
    "    pulse_phase = jnp.zeros(period)\n",
    "    prc_tensor = jnp.zeros((mod, period, period))\n",
    "\n",
    "    # Run null trajectory\n",
    "    key, subkey = random.split(key)\n",
    "    null_input = jnp.zeros((1, 4 * period, mod))\n",
    "    _, null_rates = train_state.apply_fn(params.params, null_input, rngs={\"noise_stream\": subkey})\n",
    "    null_rates_pc = pca.transform(null_rates[0])\n",
    "    null_angles = jnp.arctan2(\n",
    "        null_rates_pc[3 * period : 4 * period, 1], \n",
    "        null_rates_pc[3 * period : 4 * period, 0]\n",
    "    )\n",
    "\n",
    "    for i in range(mod):\n",
    "        for t_pulse in range(period):\n",
    "            key, subkey = random.split(key)\n",
    "\n",
    "            # Calculate the pulse phase\n",
    "            pulse_idx = period + t_pulse\n",
    "            pulse_angle = jnp.arctan2(null_rates_pc[pulse_idx, 1], null_rates_pc[pulse_idx, 0])\n",
    "            pulse_phase = pulse_phase.at[t_pulse].set(pulse_angle)\n",
    "\n",
    "            # Create perturbed input with pulse at global time (period + t_pulse)\n",
    "            pert_input = jnp.zeros((1, 4 * period, mod))\n",
    "            pert_input = pert_input.at[0, pulse_idx, i].add(pulse_amplitude)\n",
    "            pert_input = pert_input.at[0, pulse_idx + 1, i].add(pulse_amplitude)\n",
    "\n",
    "            # Simulate perturbed trajectory\n",
    "            _, pert_rates = train_state.apply_fn(params.params, pert_input, rngs={\"noise_stream\": subkey})\n",
    "            pert_rates_pc = pca.transform(pert_rates[0])\n",
    "            pert_angles = jnp.arctan2(\n",
    "                pert_rates_pc[3 * period : 4 * period, 1], \n",
    "                pert_rates_pc[3 * period : 4 * period, 0]\n",
    "            )\n",
    "\n",
    "            # Phase shift = angle difference (wrapped to [-π, π])\n",
    "            phase_shift = (pert_angles - null_angles + jnp.pi) % (2 * jnp.pi) - jnp.pi\n",
    "            prc_tensor = prc_tensor.at[i, t_pulse, :].set(phase_shift)\n",
    "\n",
    "    return pulse_phase, prc_tensor"
   ]
  },
  {
   "cell_type": "code",
   "execution_count": null,
   "id": "d933f84f-de53-4078-8b17-6b76a28e6cac",
   "metadata": {},
   "outputs": [],
   "source": [
    "key, prc_key = random.split(key, num=2)\n",
    "pulse_phase, prc_tensor = compute_prc_tensor(\n",
    "    prc_key,\n",
    "    train_state,\n",
    "    params,\n",
    "    pca,\n",
    "    MOD,\n",
    "    period,\n",
    "    PULSE_CONFIG['pulse_amplitude'],\n",
    ")\n",
    "prc_tensor.shape"
   ]
  },
  {
   "cell_type": "code",
   "execution_count": null,
   "id": "3bdada31-3da3-41de-9c75-8945bcbfd4ac",
   "metadata": {},
   "outputs": [],
   "source": [
    "# Compute mean and std\n",
    "mean_prc = prc_tensor.mean(axis=2)\n",
    "std_prc = prc_tensor.std(axis=2)\n",
    "\n",
    "# Sort by pulse_phase\n",
    "sort_idx = jnp.argsort(pulse_phase)\n",
    "pulse_phase_sorted = pulse_phase[sort_idx]\n",
    "mean_prc_sorted = mean_prc[:, sort_idx]\n",
    "std_prc_sorted = std_prc[:, sort_idx]\n",
    "\n",
    "# Plotting\n",
    "colors = ['tab:green', 'tab:red', 'tab:purple']\n",
    "labels = ['0', '1', '2']\n",
    "\n",
    "plt.figure(figsize=(7, 5))\n",
    "for i in range(MOD):\n",
    "    data = prc_tensor[i]\n",
    "    mean = mean_prc_sorted[i]\n",
    "    std = std_prc_sorted[i]\n",
    "    color = colors[i]\n",
    "    \n",
    "    # Plot mean line\n",
    "    plt.plot(pulse_phase_sorted, mean, 'o-', label=labels[i], color=color)\n",
    "    \n",
    "    # Plot shaded std deviation\n",
    "    plt.fill_between(\n",
    "        pulse_phase_sorted,\n",
    "        mean - std,\n",
    "        mean + std,\n",
    "        color=color,\n",
    "        alpha=0.3,\n",
    "    )\n",
    "\n",
    "    # Compute and plot constant fit (mean across phases)\n",
    "    constant_fit = jnp.mean(data)\n",
    "    plt.hlines(\n",
    "        constant_fit,\n",
    "        xmin=pulse_phase_sorted[0],\n",
    "        xmax=pulse_phase_sorted[-1],\n",
    "        colors=color,\n",
    "        linestyles='dashed',\n",
    "        linewidth=1.5,\n",
    "    )\n",
    "\n",
    "plt.xlabel(\"Pulse phase (radians)\")\n",
    "plt.ylabel(\"Mean phase shift (radians)\")\n",
    "plt.title(\"Phase Response Curves (Mean ± Std)\")\n",
    "plt.legend(\n",
    "    title=\"Pulse\", \n",
    "    loc=\"center\",\n",
    "    bbox_to_anchor=(0.9, 0.64),\n",
    ")\n",
    "plt.grid(True)\n",
    "plt.tight_layout()\n",
    "plt.show()"
   ]
  },
  {
   "cell_type": "markdown",
   "id": "b326780b-4ab9-4f60-8ff4-f713715baa23",
   "metadata": {},
   "source": [
    "## Manipulating mean phase shifts"
   ]
  },
  {
   "cell_type": "code",
   "execution_count": null,
   "id": "45166dfc-9fc3-4b93-a5b8-8f772c9c84b4",
   "metadata": {},
   "outputs": [],
   "source": [
    "mean_phase_shifts = prc_tensor.mean(axis=(1,2))\n",
    "mean_phase_shifts"
   ]
  },
  {
   "cell_type": "code",
   "execution_count": null,
   "id": "4215987b-68aa-49e7-8e30-799ec6aaa9d5",
   "metadata": {},
   "outputs": [],
   "source": [
    "# Generate all multiset combinations (order doesn't matter, repetition allowed)\n",
    "combinations = list(combinations_with_replacement([0, 1, 2], 3))\n",
    "\n",
    "# Compute phase sums\n",
    "phase_sums = []\n",
    "labels = []\n",
    "for combo in combinations:\n",
    "    total_phase = sum(mean_phase_shifts[i] for i in combo) % (2 * jnp.pi)\n",
    "    phase_sums.append(total_phase)\n",
    "    labels.append(\"\".join(str(i) for i in combo))\n",
    "\n",
    "# Sort for clean plotting\n",
    "phase_sums = jnp.array(phase_sums)\n",
    "sorted_idx = jnp.argsort(phase_sums)\n",
    "phase_sums_sorted = phase_sums[sorted_idx]\n",
    "labels_sorted = [labels[i] for i in sorted_idx]\n",
    "\n",
    "# Create circular plot\n",
    "fig, ax = plt.subplots(subplot_kw={'projection': 'polar'}, figsize=(7, 7))\n",
    "theta = phase_sums_sorted\n",
    "radii = jnp.ones_like(theta)\n",
    "\n",
    "# Plot points\n",
    "ax.scatter(theta[:6], radii[:6], s=100, c='tab:orange')\n",
    "ax.scatter(theta[6:], radii[6:], s=100, c='tab:blue')\n",
    "\n",
    "# Annotate with labels\n",
    "for i, label in enumerate(labels_sorted):\n",
    "    ax.text(theta[i], 1.05, label, fontsize=10, ha='center', va='center', zorder=3)\n",
    "\n",
    "ax.set_rticks([])\n",
    "ax.set_title(\"Circular Plot of Total Phase Shifts per Input Combination\")\n",
    "plt.tight_layout()\n",
    "plt.show()"
   ]
  },
  {
   "cell_type": "code",
   "execution_count": null,
   "id": "ba277e9b-9802-4cf2-ba5e-ef4c7f6d5692",
   "metadata": {},
   "outputs": [],
   "source": []
  }
 ],
 "metadata": {
  "kernelspec": {
   "display_name": "Python 3 (ipykernel)",
   "language": "python",
   "name": "python3"
  },
  "language_info": {
   "codemirror_mode": {
    "name": "ipython",
    "version": 3
   },
   "file_extension": ".py",
   "mimetype": "text/x-python",
   "name": "python",
   "nbconvert_exporter": "python",
   "pygments_lexer": "ipython3",
   "version": "3.12.5"
  }
 },
 "nbformat": 4,
 "nbformat_minor": 5
}

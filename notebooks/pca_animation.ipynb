{
 "cells": [
  {
   "cell_type": "markdown",
   "id": "69612f23-9a96-4f23-a9ed-80887a66702c",
   "metadata": {},
   "source": [
    "# PCA animation\n",
    "Aesthetically pleasing GitHub repos tend to have a nice animation on the initial `README.md`. In this notebook, we create an animation of the phase code solution."
   ]
  },
  {
   "cell_type": "markdown",
   "id": "acb41f2f-0517-472c-b7aa-78bdf83f9ef9",
   "metadata": {},
   "source": [
    "## Imports"
   ]
  },
  {
   "cell_type": "code",
   "execution_count": 1,
   "id": "80651d49-1d02-49d2-9c2f-e4839021a85f",
   "metadata": {},
   "outputs": [],
   "source": [
    "import matplotlib.pyplot as plt\n",
    "import matplotlib.animation as animation\n",
    "from matplotlib.gridspec import GridSpec\n",
    "\n",
    "import jax\n",
    "import jax.numpy as jnp\n",
    "from jax import random\n",
    "\n",
    "import scipy.signal\n",
    "import scipy.stats\n",
    "\n",
    "from ctrnn_jax.model import CTRNNCell\n",
    "from ctrnn_jax.training import ModelParameters, create_train_state\n",
    "from ctrnn_jax.pca import compute_pca\n",
    "\n",
    "from emergence_phase_codes.model import initialize_ctrnn\n",
    "from emergence_phase_codes.task import ModuloNArithmetic\n",
    "from emergence_phase_codes.pca import add_data\n",
    "\n",
    "from emergence_phase_codes.animations.pca import PCATrajectoryAnimator\n",
    "from emergence_phase_codes.animations.utils import interpolate_colors"
   ]
  },
  {
   "cell_type": "code",
   "execution_count": 2,
   "id": "07b306f5-76dc-4fa0-b5fd-2bde979005b9",
   "metadata": {},
   "outputs": [],
   "source": [
    "key = random.PRNGKey(69)"
   ]
  },
  {
   "cell_type": "markdown",
   "id": "2d29b094-83f7-4598-b560-821dc0605171",
   "metadata": {},
   "source": [
    "## Configure parameters"
   ]
  },
  {
   "cell_type": "code",
   "execution_count": 3,
   "id": "c9120863-684e-4cb9-ae23-752fd003f499",
   "metadata": {},
   "outputs": [],
   "source": [
    "# Modulo3Arithmetic task parameters\n",
    "BATCH_SIZE_M3A = 16\n",
    "\n",
    "MOD = 3\n",
    "CONGRUENT_NUMBER = 0\n",
    "TIME_LENGTH = 50\n",
    "NUM_TRIALS = 2500\n",
    "\n",
    "TRIALS_PER_POS = 100\n",
    "TRIALS_PER_NEG = 50\n",
    "\n",
    "PULSE_CONFIG = {\n",
    "    \"num_pulses\": 3,\n",
    "    \"pulse_window\": 35,\n",
    "    \"pulse_buffer\": 5,\n",
    "    \"pulse_gap\": 5,\n",
    "    \"pulse_amplitude\": 5,\n",
    "}\n",
    "\n",
    "INIT_ARRAY_M3A = jnp.ones([BATCH_SIZE_M3A, TIME_LENGTH, MOD])"
   ]
  },
  {
   "cell_type": "code",
   "execution_count": 4,
   "id": "690193c3-3f16-4ae1-9197-398ce21537a8",
   "metadata": {},
   "outputs": [],
   "source": [
    "# Configure model parameters\n",
    "HIDDEN_FEATURES = 100\n",
    "OUTPUT_FEATURES = 1\n",
    "ALPHA = 1.0\n",
    "NOISE_SCALAR = 0.00"
   ]
  },
  {
   "cell_type": "markdown",
   "id": "04d08375-4182-4395-b70b-ad4ac07b9105",
   "metadata": {},
   "source": [
    "## Initialize MNA task"
   ]
  },
  {
   "cell_type": "code",
   "execution_count": 5,
   "id": "170014e6-518a-4004-aaab-8d5ee1a00795",
   "metadata": {},
   "outputs": [
    {
     "data": {
      "text/plain": [
       "27"
      ]
     },
     "execution_count": 5,
     "metadata": {},
     "output_type": "execute_result"
    }
   ],
   "source": [
    "# Initialize task\n",
    "key, task_key = random.split(key, num=2)\n",
    "task = ModuloNArithmetic(\n",
    "    task_key, \n",
    "    MOD,\n",
    "    congruent_number=CONGRUENT_NUMBER,\n",
    "    time_length=TIME_LENGTH,\n",
    "    num_trials=NUM_TRIALS,\n",
    "    pulse_config=PULSE_CONFIG,\n",
    ")\n",
    "task.return_number_of_sequences()"
   ]
  },
  {
   "cell_type": "code",
   "execution_count": 6,
   "id": "3616155d-f04d-4080-94a2-619eef52fb61",
   "metadata": {},
   "outputs": [
    {
     "data": {
      "text/plain": [
       "2500"
      ]
     },
     "execution_count": 6,
     "metadata": {},
     "output_type": "execute_result"
    }
   ],
   "source": [
    "# Initialize tensorflow dataset\n",
    "tf_dataset_train = task.generate_tf_dataset(BATCH_SIZE_M3A)\n",
    "len(task.dataset)"
   ]
  },
  {
   "cell_type": "markdown",
   "id": "59142c11-d721-4a3c-8e01-e34ddc39c0f8",
   "metadata": {},
   "source": [
    "## Load CT-RNN"
   ]
  },
  {
   "cell_type": "code",
   "execution_count": 7,
   "id": "0a989c2f-7022-451a-9f22-a10e22e9efb8",
   "metadata": {},
   "outputs": [],
   "source": [
    "# Initialize model\n",
    "ctrnn = initialize_ctrnn(\n",
    "    hidden_features=HIDDEN_FEATURES,\n",
    "    output_features=OUTPUT_FEATURES,\n",
    "    alpha=ALPHA,\n",
    "    noise_const=NOISE_SCALAR,\n",
    ")"
   ]
  },
  {
   "cell_type": "code",
   "execution_count": 8,
   "id": "7e090fed-c48e-4eac-940a-4eb1ab441e25",
   "metadata": {},
   "outputs": [],
   "source": [
    "# Initialize train state\n",
    "key, train_state_key = random.split(key, num=2)\n",
    "train_state = create_train_state(\n",
    "    train_state_key, \n",
    "    ctrnn, \n",
    "     1E-4, \n",
    "    INIT_ARRAY_M3A,\n",
    ")"
   ]
  },
  {
   "cell_type": "code",
   "execution_count": 9,
   "id": "542849e2-6151-41ba-b547-4b8df726d6c4",
   "metadata": {},
   "outputs": [],
   "source": [
    "# Load parameters\n",
    "params = ModelParameters(train_state)\n",
    "params.deserialize(\"../data/phase_code_solution_m3a_task.bin\")"
   ]
  },
  {
   "cell_type": "markdown",
   "id": "7266b3ca-0549-4dfd-ad66-cb5b9969da0c",
   "metadata": {},
   "source": [
    "## Compute PCA and null rates"
   ]
  },
  {
   "cell_type": "code",
   "execution_count": 10,
   "id": "cb5a8238-937a-43b3-811c-a15ab57566cf",
   "metadata": {},
   "outputs": [],
   "source": [
    "# Compute PCA\n",
    "key, pca_key = random.split(key, num=2)\n",
    "model_behavior, pca = compute_pca(\n",
    "    pca_key,\n",
    "    train_state,\n",
    "    params.params,\n",
    "    tf_dataset_train,\n",
    "    3,\n",
    ")"
   ]
  },
  {
   "cell_type": "code",
   "execution_count": 11,
   "id": "191975bf-85a1-45c0-b22d-0efa99dfbe70",
   "metadata": {},
   "outputs": [],
   "source": [
    "# Compute null rates\n",
    "key, test_key = random.split(key, num=2)\n",
    "output_null, rates_null = train_state.apply_fn(\n",
    "    params.params, \n",
    "    jnp.zeros((1, TIME_LENGTH, MOD)), \n",
    "    rngs={\"noise_stream\": test_key}\n",
    ")\n",
    "rates_pc_null = pca.transform(rates_null[0,:,:])"
   ]
  },
  {
   "cell_type": "markdown",
   "id": "44247442-af64-4784-9777-563b78cb61c6",
   "metadata": {},
   "source": [
    "## Figure preliminaries"
   ]
  },
  {
   "cell_type": "code",
   "execution_count": 12,
   "id": "47a4a7b2-0260-44ee-81e5-976978cb4df8",
   "metadata": {},
   "outputs": [],
   "source": [
    "# Make congruent example input\n",
    "congruent_example_input, _ = task.create_trial_with_indices(\n",
    "    jnp.array([2, 0, 1,]),\n",
    "    jnp.array([10, 20, 30]),\n",
    ")\n",
    "congruent_example_input = congruent_example_input[None, :, :]\n",
    "\n",
    "# Input congruent example into CT-RNN\n",
    "key, congruent_key = random.split(key, num=2)\n",
    "output_congruent, rates_congruent = train_state.apply_fn(\n",
    "    params.params, \n",
    "    congruent_example_input, \n",
    "    rngs={\"noise_stream\": congruent_key}\n",
    ")\n",
    "rates_pc_congruent = pca.transform(rates_congruent[0,:,:])\n",
    "\n",
    "# Add input, rates, and output to model_behavior\n",
    "model_behavior= add_data(\n",
    "    model_behavior, \n",
    "    pca, \n",
    "    congruent_example_input, \n",
    "    rates_congruent, \n",
    "    output_congruent,\n",
    ")"
   ]
  },
  {
   "cell_type": "code",
   "execution_count": 13,
   "id": "48976e98-f2b4-4a52-ad54-115bf4560b2a",
   "metadata": {},
   "outputs": [],
   "source": [
    "# Make incongruent example input\n",
    "incongruent_example_input, _ = task.create_trial_with_indices(\n",
    "    jnp.array([0, 0, 2,]),\n",
    "    jnp.array([15, 25, 35]),\n",
    ")\n",
    "incongruent_example_input = incongruent_example_input[None, :, :]\n",
    "\n",
    "# Input congruent example into CT-RNN\n",
    "key, incongruent_key = random.split(key, num=2)\n",
    "output_incongruent, rates_incongruent = train_state.apply_fn(\n",
    "    params.params, \n",
    "    incongruent_example_input, \n",
    "    rngs={\"noise_stream\": incongruent_key}\n",
    ")\n",
    "rates_pc_incongruent = pca.transform(rates_incongruent[0,:,:])\n",
    "\n",
    "# Add input, rates, and output to model_behavior\n",
    "model_behavior= add_data(\n",
    "    model_behavior, \n",
    "    pca, \n",
    "    incongruent_example_input, \n",
    "    rates_incongruent, \n",
    "    output_incongruent,\n",
    ")"
   ]
  },
  {
   "cell_type": "code",
   "execution_count": 14,
   "id": "36ec6502-356e-4307-9645-c0140e6a9301",
   "metadata": {},
   "outputs": [],
   "source": [
    "output_congruent_dict = {-2: output_congruent[0,:,0]}\n",
    "output_incongruent_dict = {-1: output_incongruent[0,:,0]}\n",
    "\n",
    "blue_gradient = interpolate_colors(\"#7f7f7f\", \"#1f77b4\", n_steps=TIME_LENGTH)\n",
    "orange_gradient = interpolate_colors(\"#7f7f7f\", \"#ff7f0e\", n_steps=TIME_LENGTH)\n",
    "\n",
    "trajectory_indices = [-2, -1]\n",
    "trajectory_colors = {\n",
    "    -2: blue_gradient, \n",
    "    -1: orange_gradient,\n",
    "}\n",
    "classification_colors = {\n",
    "    (1,): 'tab:blue', \n",
    "    (-1,): 'tab:orange',\n",
    "}"
   ]
  },
  {
   "cell_type": "code",
   "execution_count": 15,
   "id": "d6bf9ae8-dab9-4c41-a13f-9de05c2f78dd",
   "metadata": {},
   "outputs": [],
   "source": [
    "# Define colors for integer stimuli\n",
    "stimulus_colors = {0: \"tab:green\", 1: \"tab:red\", 2: \"tab:purple\"}\n",
    "\n",
    "# Decode integer sequences for example trials\n",
    "decoded_congruent = task.decode_integer_inputs(congruent_example_input[0,:,:],)\n",
    "decoded_incongruent = task.decode_integer_inputs(incongruent_example_input[0,:,:],)"
   ]
  },
  {
   "cell_type": "markdown",
   "id": "c79c4c94-dc7a-416e-a9d7-4f3cb167f6a2",
   "metadata": {},
   "source": [
    "## PCA animation"
   ]
  },
  {
   "cell_type": "code",
   "execution_count": 16,
   "id": "26fd025c-9069-42f2-be06-9d766eb24e05",
   "metadata": {},
   "outputs": [],
   "source": [
    "# Create the Figure\n",
    "fig_anim = plt.figure(figsize=(6, 6))\n",
    "gs = GridSpec(1, 1)\n",
    "\n",
    "# Panel 1\n",
    "ax = fig_anim.add_subplot(gs[0, 0])\n",
    "animator = PCATrajectoryAnimator(\n",
    "    ax, model_behavior, 1, 2, \n",
    "    trajectory_indices, trajectory_colors, \n",
    "    '', stimulus_colors=stimulus_colors,\n",
    "    null_trajectory=rates_pc_null, \n",
    ")\n",
    "\n",
    "# Add decorations\n",
    "animator.color_integer_points(-2, decoded_congruent,)\n",
    "animator.color_integer_points(-1, decoded_incongruent,)\n",
    "ax.spines['top'].set_visible(False)\n",
    "ax.spines['right'].set_visible(False)\n",
    "\n",
    "# Create the animation using FuncAnimation.\n",
    "ani = animation.FuncAnimation(fig_anim, animator.update, frames=TIME_LENGTH+10, blit=True)\n",
    "\n",
    "# Save the animation as a GIF.\n",
    "ani.save(\"../results/pca_animation.gif\", writer=\"pillow\", fps=7)\n",
    "plt.close(fig_anim)"
   ]
  },
  {
   "cell_type": "code",
   "execution_count": null,
   "id": "ffb25184-1d9a-4cf4-91e9-15f2018b1ccb",
   "metadata": {},
   "outputs": [],
   "source": []
  }
 ],
 "metadata": {
  "kernelspec": {
   "display_name": "Python 3 (ipykernel)",
   "language": "python",
   "name": "python3"
  },
  "language_info": {
   "codemirror_mode": {
    "name": "ipython",
    "version": 3
   },
   "file_extension": ".py",
   "mimetype": "text/x-python",
   "name": "python",
   "nbconvert_exporter": "python",
   "pygments_lexer": "ipython3",
   "version": "3.12.5"
  }
 },
 "nbformat": 4,
 "nbformat_minor": 5
}

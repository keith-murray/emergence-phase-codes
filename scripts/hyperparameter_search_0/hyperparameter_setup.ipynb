{
 "cells": [
  {
   "cell_type": "markdown",
   "id": "e49e0451-83e6-4c9b-ae2d-37efa0eab6d8",
   "metadata": {},
   "source": [
    "# Hyperparameter search\n",
    "The purpose of this notebook is to setup a hyperparameter search to understand what setting lead to successful RNNs."
   ]
  },
  {
   "cell_type": "markdown",
   "id": "83179b72-99d0-4ad9-a9d6-6fc28db17149",
   "metadata": {},
   "source": [
    "## Imports"
   ]
  },
  {
   "cell_type": "code",
   "execution_count": 1,
   "id": "74790257-a3ff-441d-9ce3-cf355ed5605d",
   "metadata": {},
   "outputs": [],
   "source": [
    "import json\n",
    "import os\n",
    "\n",
    "import jax.numpy as jnp\n",
    "from jax import random"
   ]
  },
  {
   "cell_type": "markdown",
   "id": "372a0efc-7b73-4670-b11c-241bf5ca9eed",
   "metadata": {},
   "source": [
    "## File and JSON generation"
   ]
  },
  {
   "cell_type": "code",
   "execution_count": 2,
   "id": "08852e7e-5b33-467a-bc7e-2bd69f6ef920",
   "metadata": {},
   "outputs": [
    {
     "name": "stderr",
     "output_type": "stream",
     "text": [
      "No GPU/TPU found, falling back to CPU. (Set TF_CPP_MIN_LOG_LEVEL=0 and rerun for more info.)\n"
     ]
    }
   ],
   "source": [
    "job_folder = \"../../data/hyperparameter\"\n",
    "key = random.PRNGKey(0)\n",
    "\n",
    "alpha = 0.1\n",
    "noise = [0.00, 0.05, 0.10,]\n",
    "pulse_mean = [8, 9, 10, 11, 12,]\n",
    "mod_amount = [1, 2, 3, 4, 5, 6,]\n",
    "mod_set = [2, 3, 4, 5, 6, 7, 8, 9, 10, 11,]\n",
    "training_trials = [3200, 6400, 9600,]\n",
    "train_batch_size = 128\n",
    "testing_trials = 640\n",
    "lr = [0.01, 0.005, 0.001]\n",
    "epochs = [500, 1000, 1500, 2000, 2500]"
   ]
  },
  {
   "cell_type": "code",
   "execution_count": 3,
   "id": "ad004252-0193-4903-b96a-497eaa11d563",
   "metadata": {},
   "outputs": [],
   "source": [
    "for task_id in range(384):\n",
    "    task_folder = os.path.join(job_folder, f\"task_{task_id}\")\n",
    "    os.makedirs(task_folder, exist_ok=True)\n",
    "\n",
    "    keys = random.split(key, num=8)\n",
    "    key = keys[0,:]\n",
    "\n",
    "    mod_amt = random.permutation(keys[1,:], jnp.array(mod_amount))[0].item()\n",
    "    params = {\n",
    "        'seed': task_id,\n",
    "        'alpha': alpha,\n",
    "        'noise': round(random.permutation(keys[2,:], jnp.array(noise))[0].item(), 2),\n",
    "        'pulse_mean': random.permutation(keys[3,:], jnp.array(pulse_mean))[0].item(),\n",
    "        'mod_set': random.permutation(keys[4,:], jnp.array(mod_set))[:mod_amt].tolist(),\n",
    "        'training_trials': random.permutation(keys[5,:], jnp.array(training_trials))[0].item(),\n",
    "        'train_batch_size': train_batch_size,\n",
    "        'testing_trials': testing_trials,\n",
    "        'lr': round(random.permutation(keys[6,:], jnp.array(lr))[0].item(), 4),\n",
    "        'epochs': random.permutation(keys[7,:], jnp.array(epochs))[0].item(),\n",
    "    }\n",
    "    \n",
    "    json_path = os.path.join(task_folder, \"params.json\")\n",
    "    with open(json_path, 'w') as f:\n",
    "        json.dump(params, f)"
   ]
  },
  {
   "cell_type": "code",
   "execution_count": 4,
   "id": "82d8897c-c062-42f7-9c4f-9d420db9ab8d",
   "metadata": {},
   "outputs": [
    {
     "name": "stdout",
     "output_type": "stream",
     "text": [
      "383\n"
     ]
    }
   ],
   "source": [
    "print(task_id)"
   ]
  },
  {
   "cell_type": "code",
   "execution_count": null,
   "id": "a6c85802-9d89-45d2-b101-0e841184aea4",
   "metadata": {},
   "outputs": [],
   "source": []
  }
 ],
 "metadata": {
  "kernelspec": {
   "display_name": "Python 3 (ipykernel)",
   "language": "python",
   "name": "python3"
  },
  "language_info": {
   "codemirror_mode": {
    "name": "ipython",
    "version": 3
   },
   "file_extension": ".py",
   "mimetype": "text/x-python",
   "name": "python",
   "nbconvert_exporter": "python",
   "pygments_lexer": "ipython3",
   "version": "3.9.16"
  }
 },
 "nbformat": 4,
 "nbformat_minor": 5
}

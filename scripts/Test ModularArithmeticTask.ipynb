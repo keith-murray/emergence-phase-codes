{
 "cells": [
  {
   "cell_type": "code",
   "execution_count": 1,
   "id": "f12eb4c4-e23a-4db7-be77-56b6151a3647",
   "metadata": {},
   "outputs": [],
   "source": [
    "%load_ext autoreload\n",
    "%autoreload 2"
   ]
  },
  {
   "cell_type": "markdown",
   "id": "6a3637e8-384f-4794-8947-45ae17d487a4",
   "metadata": {},
   "source": [
    "# Testing ModularArithmeticTask\n",
    "The purpose of this notebook is to test the features and functionality of the ModularArithmeticTask."
   ]
  },
  {
   "cell_type": "markdown",
   "id": "cbc194a5-c703-4e13-bb29-236f57481ecc",
   "metadata": {},
   "source": [
    "## Imports"
   ]
  },
  {
   "cell_type": "code",
   "execution_count": 2,
   "id": "9eed5b5c-2cb3-4f32-be2f-e54ba009650e",
   "metadata": {},
   "outputs": [],
   "source": [
    "from functools import partial\n",
    "\n",
    "import jax\n",
    "import jax.numpy as jnp\n",
    "from jax import random\n",
    "from modularRNN.task import ModularArithmeticTask\n",
    "\n",
    "import matplotlib.pyplot as plt"
   ]
  },
  {
   "cell_type": "markdown",
   "id": "8d2ed07b-3245-4ba6-a34a-bd4dbe897fa3",
   "metadata": {},
   "source": [
    "## Setup class"
   ]
  },
  {
   "cell_type": "code",
   "execution_count": 3,
   "id": "85619dfe-72f5-4c51-82a5-ff7b7b6e29ac",
   "metadata": {},
   "outputs": [],
   "source": [
    "key = random.PRNGKey(0)\n",
    "training_trials = 12800\n",
    "testing_trials = 1280\n",
    "train_batch_size = 128\n",
    "mod_set = jnp.array([2,3,4,7,9])\n",
    "pulse_distribution = partial(random.poisson, lam=12)\n",
    "\n",
    "modtask = ModularArithmeticTask(key, training_trials, testing_trials, train_batch_size, mod_set, pulse_distribution,)"
   ]
  },
  {
   "cell_type": "markdown",
   "id": "3afb2325-b187-4113-9eda-80352db4bab5",
   "metadata": {},
   "source": [
    "## Test basic methods"
   ]
  },
  {
   "cell_type": "code",
   "execution_count": 4,
   "id": "4e80d274-313d-4cad-9392-46f7c59d0b37",
   "metadata": {},
   "outputs": [
    {
     "name": "stdout",
     "output_type": "stream",
     "text": [
      "13\n",
      "11\n"
     ]
    }
   ],
   "source": [
    "# Test the trial_distribution probability function implementation\n",
    "print(modtask.trial_distribution(modtask.generate_subkey()))\n",
    "print(modtask.trial_distribution(modtask.generate_subkey()))"
   ]
  },
  {
   "cell_type": "code",
   "execution_count": 5,
   "id": "87e0d18d-1a0b-4be5-bf2e-c6a0fe861662",
   "metadata": {},
   "outputs": [
    {
     "name": "stdout",
     "output_type": "stream",
     "text": [
      "4\n",
      "9\n"
     ]
    }
   ],
   "source": [
    "# Test the sample_modular_value function\n",
    "print(modtask.sample_modular_value())\n",
    "print(modtask.sample_modular_value())"
   ]
  },
  {
   "cell_type": "code",
   "execution_count": null,
   "id": "1cfc08e8-dbee-4d4f-a097-9208b695e1f5",
   "metadata": {},
   "outputs": [],
   "source": []
  }
 ],
 "metadata": {
  "kernelspec": {
   "display_name": "Python 3 (ipykernel)",
   "language": "python",
   "name": "python3"
  },
  "language_info": {
   "codemirror_mode": {
    "name": "ipython",
    "version": 3
   },
   "file_extension": ".py",
   "mimetype": "text/x-python",
   "name": "python",
   "nbconvert_exporter": "python",
   "pygments_lexer": "ipython3",
   "version": "3.12.2"
  }
 },
 "nbformat": 4,
 "nbformat_minor": 5
}

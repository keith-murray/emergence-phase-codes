{
 "cells": [
  {
   "cell_type": "code",
   "execution_count": 1,
   "id": "f12eb4c4-e23a-4db7-be77-56b6151a3647",
   "metadata": {},
   "outputs": [],
   "source": [
    "%load_ext autoreload\n",
    "%autoreload 2"
   ]
  },
  {
   "cell_type": "markdown",
   "id": "6a3637e8-384f-4794-8947-45ae17d487a4",
   "metadata": {},
   "source": [
    "# Testing ModularArithmeticTask\n",
    "The purpose of this notebook is to test the features and functionality of the ModularArithmeticTask."
   ]
  },
  {
   "cell_type": "markdown",
   "id": "cbc194a5-c703-4e13-bb29-236f57481ecc",
   "metadata": {},
   "source": [
    "## Imports"
   ]
  },
  {
   "cell_type": "code",
   "execution_count": 2,
   "id": "9eed5b5c-2cb3-4f32-be2f-e54ba009650e",
   "metadata": {},
   "outputs": [],
   "source": [
    "from functools import partial\n",
    "\n",
    "import jax\n",
    "import jax.numpy as jnp\n",
    "from jax import random\n",
    "from modularRNN.task import ModularArithmeticTask\n",
    "\n",
    "import matplotlib.pyplot as plt"
   ]
  },
  {
   "cell_type": "markdown",
   "id": "8d2ed07b-3245-4ba6-a34a-bd4dbe897fa3",
   "metadata": {},
   "source": [
    "## Setup class"
   ]
  },
  {
   "cell_type": "code",
   "execution_count": 3,
   "id": "85619dfe-72f5-4c51-82a5-ff7b7b6e29ac",
   "metadata": {},
   "outputs": [],
   "source": [
    "key = random.PRNGKey(0)\n",
    "training_trials = 12800\n",
    "testing_trials = 1280\n",
    "train_batch_size = 128\n",
    "mod_set = jnp.array([2,3,4,7,9])\n",
    "pulse_distribution = partial(random.poisson, lam=12)\n",
    "\n",
    "modtask = ModularArithmeticTask(key, training_trials, testing_trials, train_batch_size, mod_set, pulse_distribution,)"
   ]
  },
  {
   "cell_type": "markdown",
   "id": "3afb2325-b187-4113-9eda-80352db4bab5",
   "metadata": {},
   "source": [
    "## Test methods"
   ]
  },
  {
   "cell_type": "code",
   "execution_count": 4,
   "id": "4e80d274-313d-4cad-9392-46f7c59d0b37",
   "metadata": {},
   "outputs": [
    {
     "name": "stdout",
     "output_type": "stream",
     "text": [
      "13\n",
      "11\n"
     ]
    }
   ],
   "source": [
    "# Test the trial_distribution probability function implementation\n",
    "print(modtask.pulse_distribution(modtask.generate_subkey()))\n",
    "print(modtask.pulse_distribution(modtask.generate_subkey()))"
   ]
  },
  {
   "cell_type": "code",
   "execution_count": 5,
   "id": "87e0d18d-1a0b-4be5-bf2e-c6a0fe861662",
   "metadata": {},
   "outputs": [
    {
     "name": "stdout",
     "output_type": "stream",
     "text": [
      "4\n",
      "9\n"
     ]
    }
   ],
   "source": [
    "# Test the sample_modular_value method\n",
    "print(modtask.sample_modular_value())\n",
    "print(modtask.sample_modular_value())"
   ]
  },
  {
   "cell_type": "code",
   "execution_count": 6,
   "id": "eee31c94-a06f-43ee-89a7-5751748f61a9",
   "metadata": {},
   "outputs": [
    {
     "name": "stdout",
     "output_type": "stream",
     "text": [
      "[ 9 15 18 20 25 32 34 53 61 71 76 86 95]\n",
      "True\n",
      "[23 27 36 42 49 55 59 69 83 91]\n",
      "True\n"
     ]
    }
   ],
   "source": [
    "# Test generate_pulse_indicies method\n",
    "pulse_indicies_0 = modtask.generate_pulse_indicies(13)\n",
    "print(pulse_indicies_0)\n",
    "print(modtask.test_pulse_indicies(pulse_indicies_0))\n",
    "pulse_indicies_1 = modtask.generate_pulse_indicies(10)\n",
    "print(pulse_indicies_1)\n",
    "print(modtask.test_pulse_indicies(pulse_indicies_1))"
   ]
  },
  {
   "cell_type": "code",
   "execution_count": 7,
   "id": "932ce12d-c0d3-49a5-a84c-a970ff4c63e8",
   "metadata": {},
   "outputs": [
    {
     "name": "stdout",
     "output_type": "stream",
     "text": [
      "[5 6 6 1 6 3 6 2 4 4 3 3]\n",
      "[1 2 4 1 4 4 3 2 1 4]\n"
     ]
    }
   ],
   "source": [
    "# Test generate_pulse_values method\n",
    "print(modtask.generate_pulse_values(12, 8))\n",
    "print(modtask.generate_pulse_values(10, 5))"
   ]
  },
  {
   "cell_type": "code",
   "execution_count": 8,
   "id": "1def5a33-a03b-4cc9-9e15-bbdfe3402dcc",
   "metadata": {},
   "outputs": [
    {
     "name": "stdout",
     "output_type": "stream",
     "text": [
      "[0 0 0 0 2 0 0 0 2 0 0 0 0 1 0 0 0 0 0 0 0 0 0 0 0 0 0 0 3 0 0 3 0 0 0 0 0\n",
      " 0 0 4 0 0 1 0 0 0 0 0 0 0 0 0 0 0 0 0 0 0 0 0 0 0 0 0 0 0 0 0 0 0 0 0 0 0\n",
      " 0 0 0 0 0 0 0 0 0 0 3 0 0 0 0 0 4 0 0 0 4 0 0 0 0 0]\n"
     ]
    }
   ],
   "source": [
    "# Test create_pulses_and_cumulative_mod method\n",
    "pulse_indicies = jnp.array([4,8,13,28,31,39,42,84,90,94])\n",
    "pulse_values = jnp.array([2,2,1,3,3,4,1,3,4,4])\n",
    "pulses, cumulative_mod = modtask.create_pulses_and_cumulative_mod(pulse_indicies, pulse_values, 5)\n",
    "print(pulses)"
   ]
  },
  {
   "cell_type": "code",
   "execution_count": 9,
   "id": "40e40478-2fc0-42ab-b4d9-46bc70b36a57",
   "metadata": {},
   "outputs": [
    {
     "name": "stdout",
     "output_type": "stream",
     "text": [
      "(100, 20)\n",
      "(100, 10)\n"
     ]
    }
   ],
   "source": [
    "# Test create_input_output_tensors method\n",
    "input_tensor, output_tensor = modtask.create_input_output_tensors(pulses, cumulative_mod, 5)\n",
    "print(input_tensor.shape)\n",
    "print(output_tensor.shape)"
   ]
  },
  {
   "cell_type": "code",
   "execution_count": 10,
   "id": "37528076-7205-405e-b17d-745345f0e9e9",
   "metadata": {},
   "outputs": [
    {
     "name": "stdout",
     "output_type": "stream",
     "text": [
      "(100, 20)\n",
      "(100, 10)\n"
     ]
    }
   ],
   "source": [
    "# Test generate_task_trial method\n",
    "input_tensor, output_tensor = modtask.generate_task_trial()\n",
    "print(input_tensor.shape)\n",
    "print(output_tensor.shape)"
   ]
  },
  {
   "cell_type": "code",
   "execution_count": 11,
   "id": "e68ee5bf-7f03-470a-8706-e082cf10b7f8",
   "metadata": {},
   "outputs": [
    {
     "name": "stderr",
     "output_type": "stream",
     "text": [
      "100%|███████████████████████████████████████| 6400/6400 [03:38<00:00, 29.31it/s]\n"
     ]
    },
    {
     "name": "stdout",
     "output_type": "stream",
     "text": [
      "(6400, 100, 20)\n",
      "(6400, 100, 10)\n"
     ]
    }
   ],
   "source": [
    "# Test generate_trials method\n",
    "inputs_tensor, outputs_tensor = modtask.generate_trials(6400)\n",
    "print(inputs_tensor.shape)\n",
    "print(outputs_tensor.shape)"
   ]
  },
  {
   "cell_type": "code",
   "execution_count": null,
   "id": "6a4c3718-995f-416c-a372-36026dfb4d1f",
   "metadata": {},
   "outputs": [],
   "source": []
  }
 ],
 "metadata": {
  "kernelspec": {
   "display_name": "Python 3 (ipykernel)",
   "language": "python",
   "name": "python3"
  },
  "language_info": {
   "codemirror_mode": {
    "name": "ipython",
    "version": 3
   },
   "file_extension": ".py",
   "mimetype": "text/x-python",
   "name": "python",
   "nbconvert_exporter": "python",
   "pygments_lexer": "ipython3",
   "version": "3.12.2"
  }
 },
 "nbformat": 4,
 "nbformat_minor": 5
}
